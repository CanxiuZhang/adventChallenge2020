{
 "cells": [
  {
   "cell_type": "code",
   "execution_count": 15,
   "metadata": {
    "collapsed": false
   },
   "outputs": [],
   "source": [
    "# Q1\n",
    "file1 = open('./input.txt', 'r') \n",
    "Lines = file1.readlines() \n",
    "  \n",
    "count = 0\n",
    "# Strips the newline character \n",
    "nums = []\n",
    "for line in Lines: \n",
    "#     print(\"Line{}: {}\".format(count, line.strip())) \n",
    "    nums.append(int(line.strip()))\n"
   ]
  },
  {
   "cell_type": "code",
   "execution_count": 16,
   "metadata": {
    "collapsed": false
   },
   "outputs": [
    {
     "name": "stdout",
     "output_type": "stream",
     "text": [
      "num 1999\n",
      "result 41979\n"
     ]
    }
   ],
   "source": [
    "for num in nums:\n",
    "    if 2020-num in nums:\n",
    "        result = num * (2020-num)\n",
    "        print('num', num)\n",
    "        break\n",
    "print('result', result)"
   ]
  },
  {
   "cell_type": "code",
   "execution_count": 19,
   "metadata": {
    "collapsed": false
   },
   "outputs": [
    {
     "name": "stdout",
     "output_type": "stream",
     "text": [
      "1999 21\n",
      "True\n"
     ]
    }
   ],
   "source": [
    "# Q2\n",
    "def find_combination (value, array):\n",
    "    for num in array:\n",
    "        if value-num in array:\n",
    "            print(num, value-num)\n",
    "            return True\n",
    "    return False\n",
    "print(find_combination(2020, nums))"
   ]
  },
  {
   "cell_type": "code",
   "execution_count": 24,
   "metadata": {
    "collapsed": false
   },
   "outputs": [
    {
     "name": "stdout",
     "output_type": "stream",
     "text": [
      "277 1119\n",
      "624\n",
      "624 1119\n",
      "277\n",
      "624 277\n",
      "1119\n"
     ]
    }
   ],
   "source": [
    "for num in nums:\n",
    "    rest = nums[:]\n",
    "#     print('rest', rest)\n",
    "    if(find_combination(2020-num, rest)):\n",
    "        print(num)"
   ]
  },
  {
   "cell_type": "code",
   "execution_count": 25,
   "metadata": {
    "collapsed": false
   },
   "outputs": [
    {
     "data": {
      "text/plain": [
       "193416912"
      ]
     },
     "execution_count": 25,
     "metadata": {},
     "output_type": "execute_result"
    }
   ],
   "source": [
    "277*624*1119"
   ]
  },
  {
   "cell_type": "code",
   "execution_count": null,
   "metadata": {
    "collapsed": true
   },
   "outputs": [],
   "source": []
  }
 ],
 "metadata": {
  "kernelspec": {
   "display_name": "Python 3",
   "language": "python",
   "name": "python3"
  },
  "language_info": {
   "codemirror_mode": {
    "name": "ipython",
    "version": 3
   },
   "file_extension": ".py",
   "mimetype": "text/x-python",
   "name": "python",
   "nbconvert_exporter": "python",
   "pygments_lexer": "ipython3",
   "version": "3.6.0"
  }
 },
 "nbformat": 4,
 "nbformat_minor": 2
}
